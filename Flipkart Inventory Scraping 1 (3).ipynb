{
 "cells": [
  {
   "cell_type": "markdown",
   "metadata": {},
   "source": [
    "# Flipkart & Flipkart Grocery Inventory Scraper"
   ]
  },
  {
   "cell_type": "code",
   "execution_count": null,
   "metadata": {},
   "outputs": [],
   "source": [
    "import pandas as pd\n",
    "from selenium import webdriver\n",
    "import numpy as np\n",
    "import warnings\n",
    "warnings.filterwarnings(\"ignore\")\n",
    "from time import sleep\n",
    "from selenium.common.exceptions import NoSuchElementException\n",
    "from datetime import datetime\n",
    "from selenium.webdriver.chrome.options import Options"
   ]
  },
  {
   "cell_type": "code",
   "execution_count": null,
   "metadata": {},
   "outputs": [],
   "source": [
    "pincodes = pd.read_excel(\"fsn-pin.xlsx\", sheet_name=\"pincode\")\n",
    "fsn = pd.read_excel(\"fsn-pin.xlsx\",sheet_name=\"fsn\")"
   ]
  },
  {
   "cell_type": "code",
   "execution_count": null,
   "metadata": {},
   "outputs": [],
   "source": [
    "fsn = fsn[:10]"
   ]
  },
  {
   "cell_type": "code",
   "execution_count": null,
   "metadata": {},
   "outputs": [],
   "source": [
    "a = pincodes.copy()\n",
    "for i in range(len(fsn)-1):\n",
    "     a = pd.concat([a,pincodes])\n",
    "\n",
    "b = fsn.copy()\n",
    "for i in range(len(pincodes)-1):\n",
    "    b = pd.concat([b,fsn])"
   ]
  },
  {
   "cell_type": "code",
   "execution_count": null,
   "metadata": {},
   "outputs": [],
   "source": [
    "b.sort_index(inplace=True)\n",
    "a[\"FSN\"] = list(b[\"FSN\"])"
   ]
  },
  {
   "cell_type": "code",
   "execution_count": null,
   "metadata": {},
   "outputs": [],
   "source": [
    "a"
   ]
  },
  {
   "cell_type": "code",
   "execution_count": null,
   "metadata": {},
   "outputs": [],
   "source": [
    "pincode = list(a[\"Pincode\"])\n",
    "fsn = list(a[\"FSN\"])\n",
    "city = list(a[\"City\"])"
   ]
  },
  {
   "cell_type": "code",
   "execution_count": null,
   "metadata": {},
   "outputs": [],
   "source": [
    "path = r\"C:\\Users\\Sanchit\\Downloads\\chromedriver.exe\"\n",
    "options = Options()\n",
    "options.add_argument('--headless')\n",
    "options.add_argument('--disable-gpu')  \n",
    "options.add_argument('--no-sandbox')\n",
    "options.add_argument('window-size=1920x1080')"
   ]
  },
  {
   "cell_type": "code",
   "execution_count": null,
   "metadata": {},
   "outputs": [],
   "source": [
    "count = 0\n",
    "df = {\"Date\":[],\"Pincode\":[],\"City\":[],\"FSN\":[],\"Selling Price\":[],\"Availability\":[],\"Merchant\":[],\"Delivery\":[],\"Stars\":[],\n",
    "     \"No. of Ratings\":[],\"No. of Reviews\":[]}"
   ]
  },
  {
   "cell_type": "code",
   "execution_count": null,
   "metadata": {
    "scrolled": true
   },
   "outputs": [],
   "source": [
    "\n",
    "for i in range(42,len(fsn)):\n",
    "    browser = webdriver.Chrome(executable_path = path, chrome_options = options)\n",
    "    browser.get(\"https://www.flipkart.com/yogabar/p/itm2ecc7496c0ad5?pid=\"+fsn[i])\n",
    "    sleep(2)\n",
    "    \n",
    "    try:\n",
    "        x = browser.find_element_by_xpath('//*[@id=\"container\"]/div/div[3]/div[1]/div[2]/div[3]/div/div[1]/h1/span').text\n",
    "    except NoSuchElementException:\n",
    "        x = browser.find_element_by_xpath('//*[@id=\"container\"]/div/div[3]/div[1]/div[2]/div[2]/div/div[1]/h1/span').text\n",
    "    \n",
    "    if x == \"Currently Unavailable\":\n",
    "        df[\"Selling Price\"].append(\"NA\")\n",
    "        df[\"Merchant\"].append(\"NA\")\n",
    "        df[\"Delivery\"].append(\"NA\")\n",
    "        df[\"Availability\"].append(\"Out of Stock.\")\n",
    "        df[\"Stars\"].append(\"NA\")\n",
    "        df[\"No. of Ratings\"].append(\"NA\")\n",
    "        df[\"No. of Reviews\"].append(\"NA\")\n",
    "    \n",
    "    else:\n",
    "        pincode_search_bar = browser.find_element_by_xpath('//*[@id=\"pincodeInputId\"]')  \n",
    "        pincode_search_bar.send_keys(pincode[i])\n",
    "        sleep(2)\n",
    "\n",
    "        pincode_button = browser.find_element_by_class_name(\"_2P_LDn\").click()\n",
    "        sleep(2)\n",
    "\n",
    "        price = browser.find_element_by_xpath(\"//div[@class='_30jeq3 _16Jk6d']\").text\n",
    "        price = price.replace(\"₹\",'')\n",
    "        price = float(price)\n",
    "        df[\"Selling Price\"].append(price)\n",
    "\n",
    "        seller = browser.find_elements_by_xpath(\"//*[@id='sellerName']/span/span\")\n",
    "        for s in seller:\n",
    "            x = s.text\n",
    "        df[\"Merchant\"].append(x)\n",
    "        \n",
    "        delivery_by = browser.find_elements_by_xpath('//*[@id=\"container\"]/div/div[3]/div[1]/div[2]/div[4]/div/div/div[2]/div[1]/ul/div/div/span[1]')\n",
    "#         delivery_by = browser.find_elements_by_xpath('//*[@id=\"container\"]/div/div[3]/div[1]/div[2]/div[5]/div/div/div[2]/div[1]/ul/div/div/span[1]')\n",
    "        for d in delivery_by:\n",
    "            x = d.text\n",
    "        df[\"Delivery\"].append(x)\n",
    "\n",
    "        availability = browser.find_elements_by_xpath('//*[@id=\"container\"]/div/div[3]/div[4]/div[2]/div[6]/div/div[1]/div[2]/div/ul/div/div[1]/span[1]')\n",
    "        for i in availability:\n",
    "            x = i.text\n",
    "        if x == \"Currently out of stock in this area.\":\n",
    "            df[\"Availability\"].append(\"Out of Stock.\")\n",
    "        else:\n",
    "            df[\"Availability\"].append(\"In Stock.\")\n",
    "\n",
    "        star = browser.find_element_by_class_name(\"_3LWZlK\").text\n",
    "        star = float(star)\n",
    "        df[\"Stars\"].append(star)\n",
    "        browser.save_screenshot('check.jpg')\n",
    "        \n",
    "        try:\n",
    "            rating = browser.find_element_by_xpath('//*[@id=\"container\"]/div/div[3]/div[1]/div[2]/div[3]/div/div[2]/div/div/span[2]/span/span[1]').text\n",
    "        except NoSuchElementException:\n",
    "            try:\n",
    "                rating = browser.find_element_by_xpath('//*[@id=\"container\"]/div/div[3]/div[1]/div[2]/div[2]/div/div[2]/div/div/span[2]/span/span[1]').text\n",
    "            except NoSuchElementException:\n",
    "                rating = str(0)\n",
    "        rating = rating.replace(' &nsb;','')\n",
    "        rating = rating.replace(' Ratings','')\n",
    "        rating = rating.replace(',','')\n",
    "        rating = int(rating)\n",
    "        df[\"No. of Ratings\"].append(rating)\n",
    "        \n",
    "        try:\n",
    "            review = browser.find_element_by_xpath('//*[@id=\"container\"]/div/div[3]/div[1]/div[2]/div[3]/div/div[2]/div/div/span[2]/span/span[3]').text\n",
    "        except NoSuchElementException:\n",
    "            try:\n",
    "                review = browser.find_element_by_xpath('//*[@id=\"container\"]/div/div[3]/div[1]/div[2]/div[2]/div/div[2]/div/div/span[2]/span/span[3]').text\n",
    "            except NoSuchElementException:\n",
    "                review = str(0)\n",
    "        review = review.replace(' Reviews','')\n",
    "        review = review.replace(',','')\n",
    "        review = review.replace('&nsb;','')\n",
    "        review = int(review)\n",
    "        df[\"No. of Reviews\"].append(review)\n",
    "        \n",
    "    df[\"FSN\"].append(fsn[i])\n",
    "    df[\"Pincode\"].append(pincode[i])\n",
    "    df[\"City\"].append(city[i])\n",
    "    now = datetime.now()\n",
    "    df[\"Date\"].append(now)\n",
    "    \n",
    "    count+=1\n",
    "    print(count)\n",
    "    browser.close()"
   ]
  },
  {
   "cell_type": "code",
   "execution_count": null,
   "metadata": {},
   "outputs": [],
   "source": [
    "fsn1 = list(set(fsn))"
   ]
  },
  {
   "cell_type": "code",
   "execution_count": null,
   "metadata": {},
   "outputs": [],
   "source": [
    "fsn1"
   ]
  },
  {
   "cell_type": "code",
   "execution_count": null,
   "metadata": {},
   "outputs": [],
   "source": [
    "mobile_emulation = {\n",
    "   \"deviceMetrics\": { \"width\": 360, \"height\": 640, \"pixelRatio\": 3.0 },\n",
    "   \"userAgent\": \"Mozilla/5.0 (Linux; Android 4.2.1; en-us; Nexus 5 Build/JOP40D) AppleWebKit/535.19 (KHTML, like Gecko) Chrome/18.0.1025.166 Mobile Safari/535.19\" }\n",
    "\n",
    "options = Options()\n",
    "options.add_experimental_option(\"mobileEmulation\", mobile_emulation)\n",
    "options.add_argument('--headless')\n",
    "options.add_argument('--disable-gpu')  \n",
    "options.add_argument('--no-sandbox')\n",
    "\n",
    "last15days = []\n",
    "count = 0\n",
    "browser = webdriver.Chrome(path,chrome_options = options)\n",
    "for i in range(len(fsn1)):  \n",
    "    browser.get(\"https://www.flipkart.com/yogabar/p/itm2ecc7496c0ad5?pid=\"+fsn1[i])\n",
    "    sleep(2)\n",
    "    try:\n",
    "        last15days.append(browser.find_element_by_xpath('//*[@id=\"_parentCtr_\"]/div[5]/div/div/div/div/div[2]/div/div/span[1]').text)\n",
    "    except NoSuchElementException:\n",
    "        last15days.append(np.nan)\n",
    "    count+=1\n",
    "    print(count)\n",
    "    print(last15days[-1])\n",
    "browser.close()"
   ]
  },
  {
   "cell_type": "code",
   "execution_count": null,
   "metadata": {},
   "outputs": [],
   "source": [
    "required = pd.DataFrame(df)\n",
    "requred1 = pd.DataFrame({\"FSN\":fsn1,\"Last 15 Days Performance\":last15days})"
   ]
  },
  {
   "cell_type": "code",
   "execution_count": null,
   "metadata": {},
   "outputs": [],
   "source": [
    "required"
   ]
  },
  {
   "cell_type": "code",
   "execution_count": null,
   "metadata": {},
   "outputs": [],
   "source": [
    "requred1"
   ]
  },
  {
   "cell_type": "code",
   "execution_count": null,
   "metadata": {},
   "outputs": [],
   "source": [
    "required = pd.merge(required,requred1,how=\"left\",on=\"FSN\")"
   ]
  },
  {
   "cell_type": "code",
   "execution_count": null,
   "metadata": {},
   "outputs": [],
   "source": [
    "for i in range(len(required[\"Delivery\"])):\n",
    "    if required.loc[i,\"Delivery\"] == 'Yogabar' or required.loc[i,\"Delivery\"] == 'SuperComNet':\n",
    "        required.loc[i,\"Delivery\"] = \"NA\""
   ]
  },
  {
   "cell_type": "code",
   "execution_count": null,
   "metadata": {},
   "outputs": [],
   "source": [
    "required"
   ]
  },
  {
   "cell_type": "code",
   "execution_count": null,
   "metadata": {},
   "outputs": [],
   "source": [
    "required.to_excel(\"fk_sheet_fin1.xlsx\")"
   ]
  },
  {
   "cell_type": "code",
   "execution_count": null,
   "metadata": {},
   "outputs": [],
   "source": []
  },
  {
   "cell_type": "code",
   "execution_count": null,
   "metadata": {},
   "outputs": [],
   "source": []
  },
  {
   "cell_type": "code",
   "execution_count": null,
   "metadata": {},
   "outputs": [],
   "source": []
  },
  {
   "cell_type": "code",
   "execution_count": null,
   "metadata": {},
   "outputs": [],
   "source": []
  },
  {
   "cell_type": "code",
   "execution_count": null,
   "metadata": {},
   "outputs": [],
   "source": []
  }
 ],
 "metadata": {
  "kernelspec": {
   "display_name": "Python 3 (ipykernel)",
   "language": "python",
   "name": "python3"
  },
  "language_info": {
   "codemirror_mode": {
    "name": "ipython",
    "version": 3
   },
   "file_extension": ".py",
   "mimetype": "text/x-python",
   "name": "python",
   "nbconvert_exporter": "python",
   "pygments_lexer": "ipython3",
   "version": "3.11.4"
  }
 },
 "nbformat": 4,
 "nbformat_minor": 4
}
